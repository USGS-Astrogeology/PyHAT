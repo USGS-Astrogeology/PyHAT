{
 "cells": [
  {
   "cell_type": "code",
   "execution_count": 1,
   "metadata": {},
   "outputs": [],
   "source": [
    "from libpyhat.analytics import analytics\n",
    "import numpy as np"
   ]
  },
  {
   "cell_type": "code",
   "execution_count": 2,
   "metadata": {},
   "outputs": [],
   "source": [
    "# setup random array\n",
    "np.random.seed(12345)\n",
    "array = np.random.rand(25)"
   ]
  },
  {
   "cell_type": "markdown",
   "metadata": {},
   "source": [
    "# Paramaters as Numpy Arrays\n",
    "The parameters of these functions are numpy arrays instead of spectra/spectrum objects. The reason for this is to try to move our lower level functions to be more uniform in their operation."
   ]
  },
  {
   "cell_type": "code",
   "execution_count": 3,
   "metadata": {},
   "outputs": [
    {
     "name": "stdout",
     "output_type": "stream",
     "text": [
      "Minimum value 0.00838829794155349 at indices [12] \n"
     ]
    }
   ],
   "source": [
    "# band minima\n",
    "# retuns tuple\n",
    "# first element is array of all occurences of the minimum value\n",
    "# second element is the minimum value in array\n",
    "minid, minvalue = analytics.band_minima(array)\n",
    "print(\"Minimum value {} at indices {} \".format(minvalue, minid))"
   ]
  },
  {
   "cell_type": "code",
   "execution_count": 4,
   "metadata": {},
   "outputs": [
    {
     "name": "stdout",
     "output_type": "stream",
     "text": [
      "Minima result (array([24]), 0.42828491666902174) Polynomial result [0.56293697 0.54033799 0.52594415 0.518838   0.51810212 0.52281906\n",
      " 0.53207139 0.54494167 0.56051246 0.57786632 0.59608581 0.6142535\n",
      " 0.63145195 0.64676372 0.65927136 0.66805746 0.67220455 0.67079521\n",
      " 0.662912   0.64763749 0.62405422 0.59124477 0.54829169 0.49427755\n",
      " 0.42828492] \n"
     ]
    }
   ],
   "source": [
    "# band center\n",
    "# returns tuple\n",
    "# first element is the band minima of center fit\n",
    "# second element is an array which represents the polynomial evaluated at each index\n",
    "center, center_fit = analytics.band_center(array)\n",
    "print(\"Minima result {} Polynomial result {} \".format(center, center_fit))"
   ]
  },
  {
   "cell_type": "code",
   "execution_count": 5,
   "metadata": {},
   "outputs": [
    {
     "name": "stdout",
     "output_type": "stream",
     "text": [
      "area result for the entire spectrum [288.]\n",
      "area result for the spectrum between indices 10 and 17 [24.5]\n"
     ]
    }
   ],
   "source": [
    "# band area\n",
    "# returns the integral for the spectrum between two points\n",
    "area = analytics.band_area(array)\n",
    "print(\"area result for the entire spectrum {}\".format(area))\n",
    "area_10_17 = analytics.band_area(array, 10, 17)\n",
    "print(\"area result for the spectrum between indices 10 and 17 {}\".format(area_10_17))"
   ]
  },
  {
   "cell_type": "code",
   "execution_count": 6,
   "metadata": {},
   "outputs": [
    {
     "name": "stdout",
     "output_type": "stream",
     "text": [
      "assymetry 1.0\n"
     ]
    }
   ],
   "source": [
    "# band assymetry\n",
    "# returns percentage representing how assymetrical a spectrum is.\n",
    "# if the spectrum is completeyly assyemtrical the return is one\n",
    "assymetry = analytics.band_asymmetry(array)\n",
    "print(\"assymetry {}\".format(assymetry))"
   ]
  },
  {
   "cell_type": "code",
   "execution_count": null,
   "metadata": {},
   "outputs": [],
   "source": []
  }
 ],
 "metadata": {
  "kernelspec": {
   "display_name": "Python 3",
   "language": "python",
   "name": "python3"
  },
  "language_info": {
   "codemirror_mode": {
    "name": "ipython",
    "version": 3
   },
   "file_extension": ".py",
   "mimetype": "text/x-python",
   "name": "python",
   "nbconvert_exporter": "python",
   "pygments_lexer": "ipython3",
   "version": "3.6.6"
  }
 },
 "nbformat": 4,
 "nbformat_minor": 2
}
