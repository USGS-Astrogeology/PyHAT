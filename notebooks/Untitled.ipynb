{
 "cells": [
  {
   "cell_type": "code",
   "execution_count": 16,
   "metadata": {},
   "outputs": [],
   "source": [
    "import inspect\n",
    "\n",
    "import numpy as np\n",
    "\n",
    "# import libpysat\n",
    "import plio\n",
    "# \n",
    "from libpysat.examples import get_path\n",
    "from plio.io.io_moon_minerology_mapper import M3\n",
    "\n",
    "from libpysat.derived.m3 import pipe_funcs as pf\n",
    "from libpysat.derived import m3, crism\n",
    "# from libpysat import derived\n",
    "from libpysat.derived.utils import generic_func\n",
    "\n",
    "import matplotlib.pyplot as plt"
   ]
  },
  {
   "cell_type": "code",
   "execution_count": 19,
   "metadata": {},
   "outputs": [],
   "source": [
    "def f(self):\n",
    "    print(self)"
   ]
  },
  {
   "cell_type": "code",
   "execution_count": 29,
   "metadata": {},
   "outputs": [
    {
     "ename": "NameError",
     "evalue": "name 'self' is not defined",
     "output_type": "error",
     "traceback": [
      "\u001b[0;31m---------------------------------------------------------------------------\u001b[0m",
      "\u001b[0;31mNameError\u001b[0m                                 Traceback (most recent call last)",
      "\u001b[0;32m<ipython-input-29-d84bd40c6234>\u001b[0m in \u001b[0;36m<module>\u001b[0;34m()\u001b[0m\n\u001b[1;32m     22\u001b[0m \u001b[0;34m\u001b[0m\u001b[0m\n\u001b[1;32m     23\u001b[0m \u001b[0;34m\u001b[0m\u001b[0m\n\u001b[0;32m---> 24\u001b[0;31m \u001b[0madd_m3\u001b[0m\u001b[0;34m(\u001b[0m\u001b[0mm3\u001b[0m\u001b[0;34m,\u001b[0m \u001b[0mM3\u001b[0m\u001b[0;34m)\u001b[0m\u001b[0;34m\u001b[0m\u001b[0m\n\u001b[0m\u001b[1;32m     25\u001b[0m \u001b[0;34m\u001b[0m\u001b[0m\n\u001b[1;32m     26\u001b[0m \u001b[0;32mdef\u001b[0m \u001b[0msugar\u001b[0m\u001b[0;34m(\u001b[0m\u001b[0mfunc\u001b[0m\u001b[0;34m)\u001b[0m\u001b[0;34m:\u001b[0m\u001b[0;34m\u001b[0m\u001b[0m\n",
      "\u001b[0;32m<ipython-input-29-d84bd40c6234>\u001b[0m in \u001b[0;36madd_m3\u001b[0;34m(package, cls)\u001b[0m\n\u001b[1;32m     15\u001b[0m \u001b[0;31m#                     cls.function_name = wrapper\u001b[0m\u001b[0;34m\u001b[0m\u001b[0;34m\u001b[0m\u001b[0m\n\u001b[1;32m     16\u001b[0m \u001b[0;31m#                     print(dir(cls))\u001b[0m\u001b[0;34m\u001b[0m\u001b[0;34m\u001b[0m\u001b[0m\n\u001b[0;32m---> 17\u001b[0;31m                     \u001b[0msetattr\u001b[0m\u001b[0;34m(\u001b[0m\u001b[0mcls\u001b[0m\u001b[0;34m,\u001b[0m \u001b[0mfunction_name\u001b[0m\u001b[0;34m,\u001b[0m \u001b[0mfunction\u001b[0m\u001b[0;34m(\u001b[0m\u001b[0mself\u001b[0m\u001b[0;34m,\u001b[0m \u001b[0;34m**\u001b[0m\u001b[0mkwargs\u001b[0m\u001b[0;34m)\u001b[0m\u001b[0;34m)\u001b[0m\u001b[0;34m\u001b[0m\u001b[0m\n\u001b[0m\u001b[1;32m     18\u001b[0m \u001b[0;34m\u001b[0m\u001b[0m\n\u001b[1;32m     19\u001b[0m                     \u001b[0mprint\u001b[0m\u001b[0;34m(\u001b[0m\u001b[0mfunc\u001b[0m\u001b[0;34m)\u001b[0m\u001b[0;34m\u001b[0m\u001b[0m\n",
      "\u001b[0;31mNameError\u001b[0m: name 'self' is not defined"
     ]
    }
   ],
   "source": [
    "def add_m3(package, cls):\n",
    "\n",
    "    for module in dir(package):\n",
    "        if module[0: 2] != \"__\" and \"funcs\" not in module:\n",
    "            new_module = getattr(__import__(package.__name__, fromlist=[module]), module)\n",
    "            \n",
    "            module_funcs = inspect.getmembers(new_module)\n",
    "            for func in module_funcs:\n",
    "                if callable(func[1]) and not func[0].endswith('__'):\n",
    "                    \n",
    "                    function_name, function = func\n",
    "                    \n",
    "                    def wrapper(self, function, **kwargs):\n",
    "                        return \n",
    "#                     cls.function_name = wrapper\n",
    "#                     print(dir(cls))\n",
    "                    setattr(cls, function_name, function(self, **kwargs))\n",
    "                    \n",
    "                    print(func)\n",
    "                    print(getattr(cls, func[0]))\n",
    "                \n",
    "\n",
    "        \n",
    "add_m3(m3, M3)\n",
    "\n",
    "def sugar(func):\n",
    "    \n",
    "    def wrapper(self, **kwargs):\n",
    "        return func(self, **kwargs)\n",
    "        \n",
    "    return wrapper"
   ]
  },
  {
   "cell_type": "code",
   "execution_count": 23,
   "metadata": {},
   "outputs": [
    {
     "name": "stdout",
     "output_type": "stream",
     "text": [
      "['__class__', '__delattr__', '__dict__', '__dir__', '__doc__', '__eq__', '__format__', '__ge__', '__getattribute__', '__getitem__', '__gt__', '__hash__', '__init__', '__init_subclass__', '__le__', '__lt__', '__module__', '__ne__', '__new__', '__reduce__', '__reduce_ex__', '__repr__', '__setattr__', '__sizeof__', '__str__', '__subclasshook__', '__weakref__', '_read', '_reindex', 'base_name', 'bd1900', 'bd1umratio', 'bd2300', 'bd2umratio', 'bd620', 'bdi1000', 'bdi2000', 'bdi_generic', 'calc_bdi_band', 'central_meridian', 'compute_overlap', 'coordinate_transformation', 'curvature', 'dataset', 'fe_est', 'fe_mare_est', 'file_name', 'footprint', 'forward_affine', 'func', 'function_name', 'generic_func', 'geospatial_coordinate_system', 'geotransform', 'h2o1', 'h2o2', 'h2o3', 'h2o4', 'h2o5', 'ice', 'iloc', 'inverse_affine', 'inverse_coordinate_transformation', 'iralbedo', 'latlon_corners', 'latlon_extent', 'latlon_to_pixel', 'loc', 'luceyc_amat', 'luceyc_omat', 'mafic_abs', 'mare_omat', 'metadata', 'nbands', 'no_data_value', 'north_up', 'olindex', 'omh', 'oneum_min', 'oneum_slope', 'pixel_area', 'pixel_height', 'pixel_to_latlon', 'pixel_width', 'proj_corners', 'proj_extent', 'raster_size', 'read_array', 'reflectance1', 'reflectance2', 'reflectance3', 'reflectance4', 'scale', 'spatial_reference', 'spheroid', 'standard_parallels', 'thermal_ratio', 'thermal_slope', 'tilt', 'tolerance', 'twoum_ratio', 'twoum_slope', 'unit_type', 'uvvis', 'visnir', 'visslope', 'visuv', 'wavelengths', 'x_rotation', 'xy_corners', 'xy_extent', 'y_rotation']\n"
     ]
    },
    {
     "data": {
      "text/plain": [
       "<matplotlib.image.AxesImage at 0x7fe643bfec88>"
      ]
     },
     "execution_count": 23,
     "metadata": {},
     "output_type": "execute_result"
    },
    {
     "data": {
      "image/png": "[encoded data removed]",
      "text/plain": [
       "<matplotlib.figure.Figure at 0x7fe64e8e7dd8>"
      ]
     },
     "metadata": {},
     "output_type": "display_data"
    }
   ],
   "source": [
    "m3_geodata = M3(get_path(\"M3_4030seg_L2_aristcrater.tif\"))\n",
    "print(dir(m3_geodata))\n",
    "\n",
    "raster = m3_geodata.read_array(1)\n",
    "plt.imshow(raster)"
   ]
  },
  {
   "cell_type": "code",
   "execution_count": 14,
   "metadata": {},
   "outputs": [],
   "source": [
    "def bd1900(data, **kwargs):\n",
    "    \"\"\"\n",
    "    Parameters\n",
    "    ----------\n",
    "    data : ndarray\n",
    "           (n,m,p) array\n",
    "\n",
    "    wv_array : ndarray\n",
    "               (n,1) array of wavelengths that correspond to the p\n",
    "               dimension of the data array\n",
    "\n",
    "    Returns\n",
    "    -------\n",
    "     : ndarray\n",
    "       the processed ndarray\n",
    "    \"\"\"\n",
    "    wavelengths = [1408, 1898, 2498]\n",
    "    return generic_func(data, wavelengths, func = pf.bd1900_func, **kwargs)"
   ]
  },
  {
   "cell_type": "code",
   "execution_count": 28,
   "metadata": {},
   "outputs": [
    {
     "data": {
      "text/plain": [
       "<matplotlib.image.AxesImage at 0x7fe643ae8c50>"
      ]
     },
     "execution_count": 28,
     "metadata": {},
     "output_type": "execute_result"
    },
    {
     "data": {
      "image/png": "[encoded data removed]",
      "text/plain": [
       "<matplotlib.figure.Figure at 0x7fe643b20898>"
      ]
     },
     "metadata": {},
     "output_type": "display_data"
    }
   ],
   "source": [
    "prod = m3_geodata.bd1900(m3.pipe.bd1900)\n",
    "plt.imshow(prod)"
   ]
  },
  {
   "cell_type": "code",
   "execution_count": null,
   "metadata": {},
   "outputs": [],
   "source": []
  },
  {
   "cell_type": "code",
   "execution_count": null,
   "metadata": {},
   "outputs": [],
   "source": []
  }
 ],
 "metadata": {
  "kernelspec": {
   "display_name": "Python 3",
   "language": "python",
   "name": "python3"
  },
  "language_info": {
   "codemirror_mode": {
    "name": "ipython",
    "version": 3
   },
   "file_extension": ".py",
   "mimetype": "text/x-python",
   "name": "python",
   "nbconvert_exporter": "python",
   "pygments_lexer": "ipython3",
   "version": "3.6.4"
  }
 },
 "nbformat": 4,
 "nbformat_minor": 2
}
